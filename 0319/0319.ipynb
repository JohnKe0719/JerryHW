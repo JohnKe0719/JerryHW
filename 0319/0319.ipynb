{
 "cells": [
  {
   "cell_type": "markdown",
   "metadata": {},
   "source": [
    "# Exercise 1"
   ]
  },
  {
   "cell_type": "code",
   "execution_count": 5,
   "metadata": {},
   "outputs": [
    {
     "name": "stdout",
     "output_type": "stream",
     "text": [
      "請輸入數字：12222234\n"
     ]
    },
    {
     "data": {
      "text/plain": [
       "True"
      ]
     },
     "execution_count": 5,
     "metadata": {},
     "output_type": "execute_result"
    }
   ],
   "source": [
    "x=input(\"請輸入數字：\")\n",
    "len(list(x))!=len(list(set(x)))"
   ]
  },
  {
   "cell_type": "markdown",
   "metadata": {},
   "source": [
    "# Exercise 2"
   ]
  },
  {
   "cell_type": "code",
   "execution_count": 6,
   "metadata": {},
   "outputs": [
    {
     "name": "stdout",
     "output_type": "stream",
     "text": [
      "請輸入數字：2\n",
      "猜錯了，哭哭\n",
      "請輸入數字：4\n",
      "猜錯了，哭哭\n",
      "請輸入數字：5\n",
      "猜錯了，哭哭\n",
      "請輸入數字：7\n",
      "猜錯了，哭哭\n",
      "請輸入數字：8\n",
      "猜對了，好棒棒\n"
     ]
    }
   ],
   "source": [
    "while True:\n",
    "    n=eval(input(\"請輸入數字：\"))\n",
    "    if (n== 8):\n",
    "        print(\"猜對了，好棒棒\")\n",
    "        break\n",
    "    else:\n",
    "        print(\"猜錯了，哭哭\")"
   ]
  },
  {
   "cell_type": "markdown",
   "metadata": {},
   "source": [
    "# Exercise 3"
   ]
  },
  {
   "cell_type": "code",
   "execution_count": 7,
   "metadata": {},
   "outputs": [
    {
     "name": "stdout",
     "output_type": "stream",
     "text": [
      "1  2  3  4  5  6  7  8  9  2  4  6  8  10  12  14  16  18  3  6  9  12  15  18  21  24  27  4  8  12  16  20  24  28  32  36  5  10  15  20  25  30  35  40  45  6  12  18  24  30  36  42  48  54  7  14  21  28  35  42  49  56  63  8  16  24  32  40  48  56  64  72  9  18  27  36  45  54  63  72  81  "
     ]
    }
   ],
   "source": [
    "for i in range(1,10,1):\n",
    "    for j in range(1,10,1):\n",
    "        print(i*j,\" \",end=\"\")"
   ]
  },
  {
   "cell_type": "markdown",
   "metadata": {},
   "source": [
    "# Exercise 4"
   ]
  },
  {
   "cell_type": "code",
   "execution_count": 11,
   "metadata": {},
   "outputs": [
    {
     "data": {
      "text/plain": [
       "[1, 3, 5]"
      ]
     },
     "execution_count": 11,
     "metadata": {},
     "output_type": "execute_result"
    }
   ],
   "source": [
    "a_list=[]\n",
    "for number in range(1,6):\n",
    "    if number % 2 ==1:\n",
    "        a_list.append(number)\n",
    "a_list"
   ]
  },
  {
   "cell_type": "markdown",
   "metadata": {},
   "source": [
    "# Exercise 5"
   ]
  },
  {
   "cell_type": "code",
   "execution_count": 10,
   "metadata": {},
   "outputs": [
    {
     "data": {
      "text/plain": [
       "[1,\n",
       " 2,\n",
       " 3,\n",
       " 4,\n",
       " 5,\n",
       " 6,\n",
       " 7,\n",
       " 8,\n",
       " 9,\n",
       " 2,\n",
       " 4,\n",
       " 6,\n",
       " 8,\n",
       " 10,\n",
       " 12,\n",
       " 14,\n",
       " 16,\n",
       " 18,\n",
       " 3,\n",
       " 6,\n",
       " 9,\n",
       " 12,\n",
       " 15,\n",
       " 18,\n",
       " 21,\n",
       " 24,\n",
       " 27,\n",
       " 4,\n",
       " 8,\n",
       " 12,\n",
       " 16,\n",
       " 20,\n",
       " 24,\n",
       " 28,\n",
       " 32,\n",
       " 36,\n",
       " 5,\n",
       " 10,\n",
       " 15,\n",
       " 20,\n",
       " 25,\n",
       " 30,\n",
       " 35,\n",
       " 40,\n",
       " 45,\n",
       " 6,\n",
       " 12,\n",
       " 18,\n",
       " 24,\n",
       " 30,\n",
       " 36,\n",
       " 42,\n",
       " 48,\n",
       " 54,\n",
       " 7,\n",
       " 14,\n",
       " 21,\n",
       " 28,\n",
       " 35,\n",
       " 42,\n",
       " 49,\n",
       " 56,\n",
       " 63,\n",
       " 8,\n",
       " 16,\n",
       " 24,\n",
       " 32,\n",
       " 40,\n",
       " 48,\n",
       " 56,\n",
       " 64,\n",
       " 72,\n",
       " 9,\n",
       " 18,\n",
       " 27,\n",
       " 36,\n",
       " 45,\n",
       " 54,\n",
       " 63,\n",
       " 72,\n",
       " 81]"
      ]
     },
     "execution_count": 10,
     "metadata": {},
     "output_type": "execute_result"
    }
   ],
   "source": [
    "number=[i*j for i in range(1,10,1) for j in range(1,10,1)]\n",
    "number"
   ]
  },
  {
   "cell_type": "markdown",
   "metadata": {},
   "source": [
    "# Exercise 6"
   ]
  },
  {
   "cell_type": "code",
   "execution_count": 12,
   "metadata": {},
   "outputs": [
    {
     "name": "stdout",
     "output_type": "stream",
     "text": [
      "請輸入鋼鐵人的顏色紫色\n",
      "好像沒有這種顏色：紫色\n"
     ]
    }
   ],
   "source": [
    "def color(iron_man_color):\n",
    "        if iron_man_color ==\"紅色\":\n",
    "            return \"鋼鐵人的盔甲是紅色的\"\n",
    "        elif iron_man_color ==\"綠色\":\n",
    "            return \"鋼鐵人其實也可以參考浩克的顏色\"\n",
    "        elif iron_man_color ==\"藍色\":\n",
    "            return \"鋼鐵人變成藍色小精靈也不錯\"\n",
    "        else:\n",
    "            return \"好像沒有這種顏色：\"+iron_man_color\n",
    "\n",
    "result = color(input(\"請輸入鋼鐵人的顏色\"))\n",
    "print(result)"
   ]
  },
  {
   "cell_type": "markdown",
   "metadata": {},
   "source": [
    "# Exercise 7"
   ]
  },
  {
   "cell_type": "code",
   "execution_count": 15,
   "metadata": {},
   "outputs": [
    {
     "name": "stdout",
     "output_type": "stream",
     "text": [
      "30\n"
     ]
    }
   ],
   "source": [
    "def plus(*num):\n",
    "    return num[0]+num[1]\n",
    "def sub(*num):\n",
    "    return num[0]-num[1]\n",
    "def multiple(*num):\n",
    "    return num[0]*num[1]\n",
    "def divide(*num):\n",
    "    return num[0]/num[1]\n",
    "\n",
    "def calculator(func,*args):\n",
    "    dis={\"+\":plus,\"-\":sub,\"*\":multiple,\"/\":divide}\n",
    "    return dis[func](*args)\n",
    "\n",
    "\n",
    "print(calculator('+', 10, 20))"
   ]
  },
  {
   "cell_type": "code",
   "execution_count": null,
   "metadata": {},
   "outputs": [],
   "source": []
  }
 ],
 "metadata": {
  "kernelspec": {
   "display_name": "Python 3",
   "language": "python",
   "name": "python3"
  },
  "language_info": {
   "codemirror_mode": {
    "name": "ipython",
    "version": 3
   },
   "file_extension": ".py",
   "mimetype": "text/x-python",
   "name": "python",
   "nbconvert_exporter": "python",
   "pygments_lexer": "ipython3",
   "version": "3.6.4"
  }
 },
 "nbformat": 4,
 "nbformat_minor": 2
}
