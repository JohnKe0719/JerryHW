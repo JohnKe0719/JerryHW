{
 "cells": [
  {
   "cell_type": "markdown",
   "metadata": {},
   "source": [
    "# Exercise 1"
   ]
  },
  {
   "cell_type": "code",
   "execution_count": 15,
   "metadata": {},
   "outputs": [
    {
     "name": "stdout",
     "output_type": "stream",
     "text": [
      "1 2 3\n"
     ]
    },
    {
     "data": {
      "text/plain": [
       "[101, 102, 103]"
      ]
     },
     "execution_count": 15,
     "metadata": {},
     "output_type": "execute_result"
    }
   ],
   "source": [
    "list(map(lambda number:int(number)+100,list(input().split(\" \"))))"
   ]
  },
  {
   "cell_type": "markdown",
   "metadata": {},
   "source": [
    "# Exercise 2"
   ]
  },
  {
   "cell_type": "code",
   "execution_count": 35,
   "metadata": {},
   "outputs": [
    {
     "name": "stdout",
     "output_type": "stream",
     "text": [
      "6\n",
      "7\n",
      "13\n",
      "42\n"
     ]
    }
   ],
   "source": [
    "def mul(func):\n",
    "    def new_function(*number):\n",
    "        func(*number)\n",
    "        result=number[0]*number[1]\n",
    "        return result\n",
    "    return new_function\n",
    "\n",
    "@mul\n",
    "def add(a,b):\n",
    "    print(a+b)\n",
    "    return a+b\n",
    "\n",
    "x=int(input())\n",
    "y=int(input())\n",
    "print(add(x,y))"
   ]
  },
  {
   "cell_type": "markdown",
   "metadata": {},
   "source": [
    "# Exercise 3"
   ]
  },
  {
   "cell_type": "code",
   "execution_count": 2,
   "metadata": {},
   "outputs": [
    {
     "name": "stdout",
     "output_type": "stream",
     "text": [
      "請輸入整數:6h\n",
      "出錯，請重新輸入\n"
     ]
    }
   ],
   "source": [
    "try:\n",
    "    x=int(input(\"請輸入整數:\"))\n",
    "    print(x)\n",
    "except:\n",
    "    print(\"出錯，請重新輸入\")\n",
    "    "
   ]
  },
  {
   "cell_type": "markdown",
   "metadata": {},
   "source": [
    "# Exercise 4"
   ]
  },
  {
   "cell_type": "code",
   "execution_count": 5,
   "metadata": {},
   "outputs": [
    {
     "name": "stdout",
     "output_type": "stream",
     "text": [
      "請輸入數字（用空格分開）：10 20 30\n",
      "請輸入要做的運算符號(+,-,*,/)：+ -\n",
      "輸入錯誤,請重新輸入\n",
      "請輸入數字（用空格分開）：10 20 30\n",
      "請輸入要做的運算符號(+,-,*,/)：+-\n",
      "輸入錯誤,請重新輸入\n",
      "請輸入數字（用空格分開）：10 20 30\n",
      "請輸入要做的運算符號(+,-,*,/)：*\n",
      "6000\n"
     ]
    }
   ],
   "source": [
    "from source import calculate as c\n",
    "\n",
    "while True:\n",
    "    try:\n",
    "        x=input(\"請輸入數字（用空格分開）：\").split(\" \")\n",
    "        cal=input(\"請輸入要做的運算符號(+,-,*,/)：\")\n",
    "        for i in range(0,len(x)):\n",
    "            x[i] = eval(x[i])\n",
    "        print(c.calculator(cal,x))\n",
    "        break\n",
    "    except:\n",
    "        print(\"輸入錯誤,請重新輸入\")\n"
   ]
  }
 ],
 "metadata": {
  "kernelspec": {
   "display_name": "Python 3",
   "language": "python",
   "name": "python3"
  },
  "language_info": {
   "codemirror_mode": {
    "name": "ipython",
    "version": 3
   },
   "file_extension": ".py",
   "mimetype": "text/x-python",
   "name": "python",
   "nbconvert_exporter": "python",
   "pygments_lexer": "ipython3",
   "version": "3.6.4"
  }
 },
 "nbformat": 4,
 "nbformat_minor": 2
}
